{
 "cells": [
  {
   "cell_type": "markdown",
   "id": "0",
   "metadata": {},
   "source": [
    "# Reconstructing Hourly Energy Availability & Reserve Margin\n",
    "\n",
    "- **Thermal Resources:** Use `Provide_Power_Capacity_In_Timepoint_MW`, making the assumption that they're not energy-constrained in any way\n",
    "- **Wind, Solar:** Use `Provide_Power_Capacity_In_Timepoint_MW`, making the claim that curtailment is only an economic decision & not a reliability one (i.e., if energy were needed, renewables could be un-curtailed)\n",
    "- **Geothermal, Biomass & Hydro:** Use `Provide_Power_MW`, since these have implicit and/or explicit energy limits that may/may not be reflected just by using `Provide_Power_Capacity_In_Timepoint_MW`\n",
    "- **Storage:** Using just `Provide_Power_MW` does not reflect that storage has energy in storage even in hours that it is not being dispatched. Instead, derive a metric from available state-of-charge in each hour, and there are a few options (in order of under-counting → over-counting):\n",
    "    1. Just `Provide_Power_MW` is too conservative\n",
    "  2. **`SOC_Inter_Intra_Joint / duration`: Define energy availability as MW that the storage could discharge at for its entire duration (e.g., an 100 MW, 8-hour storage with 400 MWh SoC in a given hour would have an effective hourly rating of 50 MW).**\n",
    "        - In Liyang's cases, `SOC_Inter_Period` and `SOC_Inter_Intra_Joint` are the same (since all chrono periods are kept)\n",
    "        - A minor detail is that the IRP assumes \"batteries\" have a min SoC of 10%, so the calculation I would do is actually for resources that have that min SoC is `SOC_Inter_Intra_Joint / duration * 0.9`\n",
    "    3. `min(Provide_Power_Capacity_In_Timepoint_MW, SOC_Inter_Intra_Joint)`: Doesn't matter that the storage can't discharge for multiple hours, if it has enough SoC for a given hour, that's it's energy availability\n",
    "    4. Just `SOC` or `Provide_Power_Capacity_In_Timepoint_MW` is too optimistic\n",
    "- **Imports:** If you [read the I&A §7.1.13 Imports](https://www.cpuc.ca.gov/-/media/cpuc-website/divisions/energy-division/documents/integrated-resource-plan-and-long-term-procurement-plan-irp-ltpp/2023-irp-cycle-events-and-materials/inputs-assumptions-2022-2023_final_document_10052023.pdf), the CPUC's `servm` model assumes an hourly shape for imports that can be relied on for RA. So there are actually three different hourly imports you could use (in order of under-counting → over-counting):\n",
    "    1. **The `resolve` assumed RA imports (which is for some reason that I don't remember 3,100 MW in 2045)**\n",
    "    2. The `servm` assumed shaped RA imports (11,040 MW, derated to 4,000 MW during summer evenings)\n",
    "    3. The `resolve` actual hourly dispatch (tx limits for economic dispatch are less constrained than the 11,040 MW/5,000 MW assumed\n",
    "\n",
    "## Reserve Margin\n",
    "- CAISO uses a 6% contingency reserve assumption (see [Sept 2022 Summer Market Performance Report §3.1](https://www.caiso.com/Documents/SummerMarketPerformanceReportforSeptember2022.pdf)). This differs from the `resolve` assumption\n",
    "- IRP `resolve` model uses 16% PRM in 2045\n",
    "- In [my Excel workbook](./outputs/Plots.xlsb), I filtered for days where the reserve margin fell below 6% in any given hour of the day"
   ]
  },
  {
   "cell_type": "code",
   "execution_count": null,
   "id": "1",
   "metadata": {},
   "outputs": [],
   "source": [
    "import pandas as pd\n",
    "import upath"
   ]
  },
  {
   "cell_type": "code",
   "execution_count": null,
   "id": "2",
   "metadata": {},
   "outputs": [],
   "source": [
    "base_path = upath.UPath(\"./2045-Core_test/Baseline/2045-2_45_CESM2_2015/2024-08-16 10-48-13\")"
   ]
  },
  {
   "cell_type": "code",
   "execution_count": null,
   "id": "3",
   "metadata": {},
   "outputs": [],
   "source": [
    "# Variable = gen + curtailment\n",
    "# Storage = SoC / duration\n",
    "# Thermal = capacity\n",
    "\n",
    "hourly_capacity = pd.read_csv(base_path / \"expressions\" / \"Plant_Provide_Power_Capacity_In_Timepoint_MW.csv\", index_col=[0, 1, 2, 3])\n",
    "hourly_gen = pd.read_csv(base_path / \"variables\" / \"Provide_Power_MW.csv\", index_col=[0, 1, 2, 3])\n",
    "hourly_soc = pd.read_csv(base_path / \"expressions\" / \"SOC_Inter_Intra_Joint.csv\", index_col=[0, 1, 2, 3])\n",
    "hourly_curtailment = pd.read_csv(base_path / \"expressions\" / \"Scheduled_Curtailment_MW.csv\", index_col=[0, 1, 2, 3])\n",
    "hourly_tx = pd.read_csv(base_path / \"variables\" / \"Transmit_Power_Forward_MW.csv\", index_col=[0, 1, 2, 3])\n",
    "hourly_load = pd.read_csv(base_path / \"parameters\" / \"input_load_mw.csv\", index_col=[0, 1, 2, 3])\n",
    "\n",
    "caiso_resources = pd.read_csv(base_path / \"results_summary\" / \"resource_summary.csv\", index_col=0)\n",
    "caiso_resources = caiso_resources.loc[(caiso_resources[\"Operational Capacity (MW)\"] != 0) & (caiso_resources[\"Zone\"] == \"CAISO\"), :].index.tolist()\n",
    "\n",
    "caiso_paths = [tx for tx in hourly_tx.index.get_level_values(0).unique() if \"to CAISO\" in tx]"
   ]
  },
  {
   "cell_type": "code",
   "execution_count": null,
   "id": "4",
   "metadata": {},
   "outputs": [],
   "source": [
    "merged = pd.concat(\n",
    "    [\n",
    "        hourly_capacity.loc[hourly_capacity.index.get_level_values(0).isin(caiso_resources), :],\n",
    "        hourly_gen.loc[hourly_gen.index.get_level_values(0).isin(caiso_resources), :],\n",
    "        hourly_soc.loc[hourly_soc.index.get_level_values(0).isin(caiso_resources), :],\n",
    "        # hourly_curtailment.loc[hourly_curtailment.index.get_level_values(0).isin(caiso_resources), :],\n",
    "        # hourly_tx.loc[hourly_tx.index.get_level_values(0).isin(caiso_paths), :],\n",
    "    ],\n",
    "    axis=1\n",
    ")\n",
    "merged.to_csv(\"./merged.csv\", index=True)"
   ]
  },
  {
   "cell_type": "code",
   "execution_count": null,
   "id": "5",
   "metadata": {},
   "outputs": [],
   "source": []
  }
 ],
 "metadata": {
  "kernelspec": {
   "display_name": "Python 3",
   "language": "python",
   "name": "python3"
  },
  "language_info": {
   "codemirror_mode": {
    "name": "ipython",
    "version": 2
   },
   "file_extension": ".py",
   "mimetype": "text/x-python",
   "name": "python",
   "nbconvert_exporter": "python",
   "pygments_lexer": "ipython2",
   "version": "2.7.6"
  }
 },
 "nbformat": 4,
 "nbformat_minor": 5
}
