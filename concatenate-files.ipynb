{
 "cells": [
  {
   "metadata": {},
   "cell_type": "markdown",
   "source": [
    "# Reconstructing Hourly Energy Availability & Reserve Margin\n",
    "\n",
    "- **Thermal Resources:** Use `Provide_Power_Capacity_In_Timepoint_MW`\n",
    "- **Wind, Solar:** Use `Provide_Power_Capacity_In_Timepoint_MW`, making the claim that curtailment is only an economic decision & not a reliability one (i.e., if energy were needed, renewables could be un-curtailed)\n",
    "- **Geothermal, Biomass & Hydro:** Use `Provide_Power_MW`, since these have implicit and/or explicit energy limits that may/may not be reflected just by using `Provide_Power_Capacity_In_Timepoint_MW`\n",
    "- **Storage:** Using just `Provide_Power_MW` does not reflect that storage has energy in storage even in hours that it is not being dispatched. Instead, derive a metric from available state-of-charge in each hour, and there are a few options:\n",
    "    1. $`SOC_Inter_Intra_Joint` / `duration`$: Define energy availability as MW that the storage could discharge at for its entire duration (e.g., an 100 MW, 8-hour storage with 400 MWh SoC in a given hour would have an effective hourly rating of 50 MW)\n",
    "    2. $min(`Provide_Power_Capacity_In_Timepoint_MW`, `SOC_Inter_Intra_Joint`)$: Doesn't matter that the storage can't discharge for multiple hours, if it has enough SoC for a given hour, that's it's energy availability\n",
    "- **Imports:** If you [read the I&A,§7.1.13 Imports](https://www.cpuc.ca.gov/-/media/cpuc-website/divisions/energy-division/documents/integrated-resource-plan-and-long-term-procurement-plan-irp-ltpp/2023-irp-cycle-events-and-materials/inputs-assumptions-2022-2023_final_document_10052023.pdf), a difference in assumption between `resolve` and `servm` is that the `servm` model assumes a hourly shape for imports that can be relied on for RA. So there are actually three different hourly imports you could use:\n",
    "    1. The `resolve` actual hourly dispatch (tx limits for economic dispatch are less constrained than the 11,040 MW/5,000 MW assumed\n",
    "    2. The `resolve` assumed RA imports (which is for some reason that I don't remember 3,100 MW in 2045)\n",
    "    3. The `servm` assumed shaped RA imports (11,040 MW, derated to 5,000 MW during summer evenings)"
   ],
   "id": "e9b50d354f721db0"
  },
  {
   "cell_type": "code",
   "id": "initial_id",
   "metadata": {
    "collapsed": true,
    "jupyter": {
     "is_executing": true
    }
   },
   "source": [
    "import pandas as pd\n",
    "import upath"
   ],
   "outputs": [],
   "execution_count": null
  },
  {
   "metadata": {
    "ExecuteTime": {
     "end_time": "2025-01-07T17:36:41.266600Z",
     "start_time": "2025-01-07T17:36:41.253271Z"
    }
   },
   "cell_type": "code",
   "source": "base_path = upath.UPath(\"../2045-Core_test/Baseline/2045-2_45_CESM2_2015/2024-08-16 10-48-13\")",
   "id": "19dc8d2566ddad37",
   "outputs": [],
   "execution_count": 2
  },
  {
   "metadata": {
    "ExecuteTime": {
     "end_time": "2025-01-07T17:36:42.779735Z",
     "start_time": "2025-01-07T17:36:41.320684Z"
    }
   },
   "cell_type": "code",
   "source": [
    "# Variable = gen + curtailment\n",
    "# Storage = SoC / duration\n",
    "# Thermal = capacity\n",
    "\n",
    "hourly_capacity = pd.read_csv(base_path / \"expressions\" / \"Plant_Provide_Power_Capacity_In_Timepoint_MW.csv\", index_col=[0, 1, 2, 3])\n",
    "hourly_gen = pd.read_csv(base_path / \"variables\" / \"Provide_Power_MW.csv\", index_col=[0, 1, 2, 3])\n",
    "hourly_soc = pd.read_csv(base_path / \"expressions\" / \"SOC_Inter_Intra_Joint.csv\", index_col=[0, 1, 2, 3])\n",
    "hourly_curtailment = pd.read_csv(base_path / \"expressions\" / \"Scheduled_Curtailment_MW.csv\", index_col=[0, 1, 2, 3])\n",
    "hourly_tx = pd.read_csv(base_path / \"variables\" / \"Transmit_Power_Forward_MW.csv\", index_col=[0, 1, 2, 3])\n",
    "hourly_load = pd.read_csv(base_path / \"parameters\" / \"input_load_mw.csv\", index_col=[0, 1, 2, 3])\n",
    "\n",
    "caiso_resources = pd.read_csv(base_path / \"results_summary\" / \"resource_summary.csv\", index_col=0)\n",
    "caiso_resources = caiso_resources.loc[(caiso_resources[\"Operational Capacity (MW)\"] != 0) & (caiso_resources[\"Zone\"] == \"CAISO\"), :].index.tolist()\n",
    "\n",
    "caiso_paths = [tx for tx in hourly_tx.index.get_level_values(0).unique() if \"to CAISO\" in tx]"
   ],
   "id": "f2b7f5e88fa69ef5",
   "outputs": [],
   "execution_count": 3
  },
  {
   "metadata": {
    "ExecuteTime": {
     "end_time": "2025-01-07T17:37:36.922650Z",
     "start_time": "2025-01-07T17:37:35.187438Z"
    }
   },
   "cell_type": "code",
   "source": [
    "merged = pd.concat(\n",
    "    [\n",
    "        hourly_capacity.loc[hourly_capacity.index.get_level_values(0).isin(caiso_resources), :],\n",
    "        hourly_gen.loc[hourly_gen.index.get_level_values(0).isin(caiso_resources), :],\n",
    "        hourly_soc.loc[hourly_soc.index.get_level_values(0).isin(caiso_resources), :],\n",
    "        # hourly_curtailment.loc[hourly_curtailment.index.get_level_values(0).isin(caiso_resources), :],\n",
    "        # hourly_tx.loc[hourly_tx.index.get_level_values(0).isin(caiso_paths), :],\n",
    "    ],\n",
    "    axis=1\n",
    ")\n",
    "merged.to_csv(\"./merged.csv\", index=True)"
   ],
   "id": "d0392498c8afa00c",
   "outputs": [],
   "execution_count": 5
  },
  {
   "metadata": {},
   "cell_type": "markdown",
   "source": [
    "# Questions for Liyang\n",
    "- [ ] What changes did Liyang make to `provide_power_potential_profile`, because it's different than I expected for the gas resources?\n",
    "- [ ] What is the `reservemargin` subfolder?"
   ],
   "id": "7eca9bba3b1ba364"
  }
 ],
 "metadata": {
  "kernelspec": {
   "display_name": "Python 3",
   "language": "python",
   "name": "python3"
  },
  "language_info": {
   "codemirror_mode": {
    "name": "ipython",
    "version": 2
   },
   "file_extension": ".py",
   "mimetype": "text/x-python",
   "name": "python",
   "nbconvert_exporter": "python",
   "pygments_lexer": "ipython2",
   "version": "2.7.6"
  }
 },
 "nbformat": 4,
 "nbformat_minor": 5
}
